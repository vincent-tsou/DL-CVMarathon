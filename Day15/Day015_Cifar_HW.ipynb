{
 "cells": [
  {
   "cell_type": "markdown",
   "metadata": {},
   "source": [
    "## 『本次練習內容』\n",
    "#### 運用這幾天所學觀念搭建一個CNN分類器"
   ]
  },
  {
   "cell_type": "markdown",
   "metadata": {},
   "source": [
    "## 『本次練習目的』\n",
    "  #### 熟悉CNN分類器搭建步驟與原理\n",
    "  #### 學員們可以嘗試不同搭法，如使用不同的Maxpooling層，用GlobalAveragePooling取代Flatten等等"
   ]
  },
  {
   "cell_type": "code",
   "execution_count": 1,
   "metadata": {},
   "outputs": [
    {
     "output_type": "stream",
     "name": "stderr",
     "text": "Using TensorFlow backend.\n"
    }
   ],
   "source": [
    "from keras.models import Sequential\n",
    "from keras.layers import Convolution2D\n",
    "from keras.layers import MaxPooling2D\n",
    "from keras.layers import Flatten\n",
    "from keras.layers import Dense\n",
    "from keras.layers import Dropout\n",
    "from keras.layers import BatchNormalization\n",
    "from keras.datasets import cifar10\n",
    "import numpy as np\n",
    "import tensorflow as tf\n",
    "from sklearn.preprocessing import OneHotEncoder\n"
   ]
  },
  {
   "cell_type": "code",
   "execution_count": 2,
   "metadata": {},
   "outputs": [
    {
     "output_type": "stream",
     "name": "stdout",
     "text": "(50000, 32, 32, 3)\n"
    }
   ],
   "source": [
    "(x_train, y_train), (x_test, y_test) = cifar10.load_data()\n",
    "\n",
    "print(x_train.shape) #(50000, 32, 32, 3)\n",
    "\n",
    "## Normalize Data\n",
    "def normalize(X_train,X_test):\n",
    "        mean = np.mean(X_train,axis=(0,1,2,3))\n",
    "        std = np.std(X_train, axis=(0, 1, 2, 3))\n",
    "        X_train = (X_train-mean)/(std+1e-7)\n",
    "        X_test = (X_test-mean)/(std+1e-7) \n",
    "        return X_train, X_test,mean,std\n",
    "    \n",
    "    \n",
    "## Normalize Training and Testset    \n",
    "x_train, x_test,mean_train,std_train = normalize(x_train, x_test) "
   ]
  },
  {
   "cell_type": "code",
   "execution_count": 3,
   "metadata": {},
   "outputs": [],
   "source": [
    "## OneHot Label 由(None, 1)-(None, 10)\n",
    "## ex. label=2,變成[0,0,1,0,0,0,0,0,0,0]\n",
    "one_hot=OneHotEncoder()\n",
    "y_train=one_hot.fit_transform(y_train).toarray()\n",
    "y_test=one_hot.transform(y_test).toarray()"
   ]
  },
  {
   "cell_type": "code",
   "execution_count": 4,
   "metadata": {},
   "outputs": [
    {
     "output_type": "stream",
     "name": "stdout",
     "text": "Epoch 1/50\n50000/50000 [==============================] - 14s 277us/step - loss: 3.7920 - accuracy: 0.5255\nEpoch 2/50\n50000/50000 [==============================] - 12s 240us/step - loss: 0.7117 - accuracy: 0.7625\nEpoch 3/50\n50000/50000 [==============================] - 12s 233us/step - loss: 0.4510 - accuracy: 0.8450\nEpoch 4/50\n50000/50000 [==============================] - 12s 234us/step - loss: 0.3359 - accuracy: 0.8844\nEpoch 5/50\n50000/50000 [==============================] - 12s 234us/step - loss: 0.2903 - accuracy: 0.8969\nEpoch 6/50\n50000/50000 [==============================] - 12s 232us/step - loss: 0.2596 - accuracy: 0.9086\nEpoch 7/50\n50000/50000 [==============================] - 12s 231us/step - loss: 0.2185 - accuracy: 0.9229\nEpoch 8/50\n50000/50000 [==============================] - 12s 231us/step - loss: 0.2047 - accuracy: 0.9288\nEpoch 9/50\n50000/50000 [==============================] - 12s 233us/step - loss: 0.1751 - accuracy: 0.9386\nEpoch 10/50\n50000/50000 [==============================] - 12s 231us/step - loss: 0.1461 - accuracy: 0.9482\nEpoch 11/50\n50000/50000 [==============================] - 12s 232us/step - loss: 0.1379 - accuracy: 0.9505\nEpoch 12/50\n50000/50000 [==============================] - 12s 234us/step - loss: 0.1511 - accuracy: 0.9470\nEpoch 13/50\n50000/50000 [==============================] - 12s 232us/step - loss: 0.1262 - accuracy: 0.9558\nEpoch 14/50\n50000/50000 [==============================] - 12s 231us/step - loss: 0.1244 - accuracy: 0.9575\nEpoch 15/50\n50000/50000 [==============================] - 12s 233us/step - loss: 0.1097 - accuracy: 0.9629\nEpoch 16/50\n50000/50000 [==============================] - 12s 231us/step - loss: 0.1037 - accuracy: 0.9641\nEpoch 17/50\n50000/50000 [==============================] - 12s 233us/step - loss: 0.1039 - accuracy: 0.9641\nEpoch 18/50\n50000/50000 [==============================] - 12s 231us/step - loss: 0.1162 - accuracy: 0.9608\nEpoch 19/50\n50000/50000 [==============================] - 12s 231us/step - loss: 0.1092 - accuracy: 0.9628\nEpoch 20/50\n50000/50000 [==============================] - 12s 231us/step - loss: 0.0944 - accuracy: 0.9679\nEpoch 21/50\n50000/50000 [==============================] - 12s 231us/step - loss: 0.0822 - accuracy: 0.9710\nEpoch 22/50\n50000/50000 [==============================] - 12s 231us/step - loss: 0.0818 - accuracy: 0.9715\nEpoch 23/50\n50000/50000 [==============================] - 12s 232us/step - loss: 0.0868 - accuracy: 0.9707\nEpoch 24/50\n50000/50000 [==============================] - 12s 231us/step - loss: 0.0827 - accuracy: 0.9728\nEpoch 25/50\n50000/50000 [==============================] - 12s 231us/step - loss: 0.0705 - accuracy: 0.9765\nEpoch 26/50\n50000/50000 [==============================] - 12s 231us/step - loss: 0.0753 - accuracy: 0.9751\nEpoch 27/50\n50000/50000 [==============================] - 12s 232us/step - loss: 0.0948 - accuracy: 0.9695\nEpoch 28/50\n50000/50000 [==============================] - 12s 231us/step - loss: 0.0740 - accuracy: 0.9759\nEpoch 29/50\n50000/50000 [==============================] - 12s 231us/step - loss: 0.0572 - accuracy: 0.9800\nEpoch 30/50\n50000/50000 [==============================] - 12s 231us/step - loss: 0.0645 - accuracy: 0.9778\nEpoch 31/50\n50000/50000 [==============================] - 12s 233us/step - loss: 0.0628 - accuracy: 0.9787\nEpoch 32/50\n50000/50000 [==============================] - 12s 230us/step - loss: 0.0727 - accuracy: 0.9766\nEpoch 33/50\n50000/50000 [==============================] - 12s 231us/step - loss: 0.0771 - accuracy: 0.9746\nEpoch 34/50\n50000/50000 [==============================] - 12s 233us/step - loss: 0.0544 - accuracy: 0.9823\nEpoch 35/50\n50000/50000 [==============================] - 12s 231us/step - loss: 0.0401 - accuracy: 0.9873\nEpoch 36/50\n50000/50000 [==============================] - 12s 231us/step - loss: 0.0532 - accuracy: 0.9828\nEpoch 37/50\n50000/50000 [==============================] - 12s 230us/step - loss: 0.0634 - accuracy: 0.9803\nEpoch 38/50\n50000/50000 [==============================] - 12s 230us/step - loss: 0.0680 - accuracy: 0.9785\nEpoch 39/50\n50000/50000 [==============================] - 12s 230us/step - loss: 0.0586 - accuracy: 0.9810\nEpoch 40/50\n50000/50000 [==============================] - 12s 232us/step - loss: 0.0485 - accuracy: 0.9840\nEpoch 41/50\n50000/50000 [==============================] - 12s 233us/step - loss: 0.0532 - accuracy: 0.9830\nEpoch 42/50\n50000/50000 [==============================] - 12s 232us/step - loss: 0.0415 - accuracy: 0.9863\nEpoch 43/50\n50000/50000 [==============================] - 12s 232us/step - loss: 0.0427 - accuracy: 0.9863\nEpoch 44/50\n50000/50000 [==============================] - 12s 233us/step - loss: 0.0549 - accuracy: 0.9826\nEpoch 45/50\n50000/50000 [==============================] - 12s 232us/step - loss: 0.0619 - accuracy: 0.9814\nEpoch 46/50\n50000/50000 [==============================] - 12s 231us/step - loss: 0.0483 - accuracy: 0.9848\nEpoch 47/50\n50000/50000 [==============================] - 12s 231us/step - loss: 0.0407 - accuracy: 0.9871\nEpoch 48/50\n50000/50000 [==============================] - 12s 232us/step - loss: 0.0417 - accuracy: 0.9870\nEpoch 49/50\n50000/50000 [==============================] - 12s 231us/step - loss: 0.0400 - accuracy: 0.9873\nEpoch 50/50\n50000/50000 [==============================] - 12s 231us/step - loss: 0.0461 - accuracy: 0.9852\n"
    },
    {
     "output_type": "execute_result",
     "data": {
      "text/plain": "<keras.callbacks.callbacks.History at 0x22a51606888>"
     },
     "metadata": {},
     "execution_count": 4
    }
   ],
   "source": [
    "\n",
    "classifier=Sequential()\n",
    "\n",
    "#卷積組合\n",
    "classifier.add(Convolution2D(32,3,3,input_shape=(32,32,3),activation='relu'))#32,3,3,input_shape=(32,32,3),activation='relu''\n",
    "classifier.add(BatchNormalization())\n",
    "classifier.add(MaxPooling2D(pool_size=(2,2)))\n",
    "'''自己決定MaxPooling2D放在哪裡'''\n",
    "#\n",
    "\n",
    "#卷積組合\n",
    "classifier.add(Convolution2D(filters=128, kernel_size=3, activation='relu', padding='same'))\n",
    "classifier.add(BatchNormalization())\n",
    "\n",
    "#flatten\n",
    "classifier.add(Flatten())\n",
    "\n",
    "#FC\n",
    "classifier.add(Dense(128)) #output_dim=100,activation=relu\n",
    "\n",
    "#輸出\n",
    "classifier.add(Dense(output_dim=10,activation='softmax'))\n",
    "\n",
    "#超過兩個就要選categorical_crossentrophy\n",
    "classifier.compile(optimizer = 'adam', loss = 'categorical_crossentropy', metrics = ['accuracy'])\n",
    "classifier.fit(x_train,y_train,batch_size=200,epochs=50)"
   ]
  },
  {
   "cell_type": "markdown",
   "metadata": {},
   "source": [
    "## 預測新圖片，輸入影像前處理要與訓練時相同\n",
    "#### ((X-mean)/(std+1e-7) ):這裡的mean跟std是訓練集的\n",
    "## 維度如下方示範"
   ]
  },
  {
   "cell_type": "code",
   "execution_count": 5,
   "metadata": {},
   "outputs": [
    {
     "output_type": "stream",
     "name": "stdout",
     "text": "10000/10000 [==============================] - 2s 237us/step\n"
    },
    {
     "output_type": "execute_result",
     "data": {
      "text/plain": "[3.691436385536194, 0.6665999889373779]"
     },
     "metadata": {},
     "execution_count": 5
    }
   ],
   "source": [
    "\n",
    "\n",
    "#(np.zeros(shape=(1,32,32,3))-mean_train)/(std_train+1e-7) \n",
    "#print(input_result)\n",
    "#classifier.predict(input_example)\n",
    "classifier.evaluate(x_test,y_test)"
   ]
  },
  {
   "cell_type": "code",
   "execution_count": 9,
   "metadata": {},
   "outputs": [
    {
     "output_type": "stream",
     "name": "stdout",
     "text": "[1. 0. 0. 0. 0. 0. 0. 0. 0. 0.]\n"
    },
    {
     "output_type": "execute_result",
     "data": {
      "text/plain": "array([[1.0000000e+00, 4.9259826e-16, 9.9035944e-12, 1.0423179e-22,\n        2.2353765e-10, 2.9918563e-22, 6.2065048e-11, 2.8736726e-24,\n        4.8374577e-15, 1.7272163e-18]], dtype=float32)"
     },
     "metadata": {},
     "execution_count": 9
    }
   ],
   "source": [
    "input_example=np.zeros(shape=(1,32,32,3))\n",
    "input_example[0]=x_test[1010]; \n",
    "print(y_test[1010])\n",
    "classifier.predict(input_example)"
   ]
  },
  {
   "cell_type": "code",
   "execution_count": null,
   "metadata": {},
   "outputs": [],
   "source": []
  }
 ],
 "metadata": {
  "kernelspec": {
   "display_name": "tf2-gpu",
   "language": "python",
   "name": "tf2-gpu"
  },
  "language_info": {
   "codemirror_mode": {
    "name": "ipython",
    "version": 3
   },
   "file_extension": ".py",
   "mimetype": "text/x-python",
   "name": "python",
   "nbconvert_exporter": "python",
   "pygments_lexer": "ipython3",
   "version": "3.7.7-final"
  }
 },
 "nbformat": 4,
 "nbformat_minor": 2
}