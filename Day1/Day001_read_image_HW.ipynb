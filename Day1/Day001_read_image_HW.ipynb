{
 "cells": [
  {
   "cell_type": "markdown",
   "metadata": {},
   "source": [
    "# 作業\n",
    "\n",
    "思考一下我們前面有提到圖片是矩陣，但維度可能會不一樣\n",
    "例如灰階圖只有兩個維度，RGB 彩圖則有 3 個維度\n",
    "\n",
    "假如今天我們把 RGB 3 個維度拆開來看會有甚麼不同的效果呢？"
   ]
  },
  {
   "cell_type": "code",
   "execution_count": 1,
   "metadata": {},
   "outputs": [
    {
     "name": "stdout",
     "output_type": "stream",
     "text": [
      "(512, 512, 3)\n"
     ]
    }
   ],
   "source": [
    "import cv2\n",
    "image_Path='../Data/lena.png';\n",
    "#載入彩色圖片\n",
    "imgLena=cv2.imread(image_Path, cv2.IMREAD_COLOR)\n",
    "print(imgLena.shape)"
   ]
  },
  {
   "cell_type": "code",
   "execution_count": 2,
   "metadata": {},
   "outputs": [
    {
     "name": "stdout",
     "output_type": "stream",
     "text": [
      "[[226 226 223 ... 230 221 200]\n",
      " [226 226 223 ... 230 221 200]\n",
      " [226 226 223 ... 230 221 200]\n",
      " ...\n",
      " [ 84  84  92 ... 173 172 177]\n",
      " [ 82  82  96 ... 179 181 185]\n",
      " [ 82  82  96 ... 179 181 185]]\n"
     ]
    }
   ],
   "source": [
    "#將B G R 三個維度分離\n",
    "imgLenaB,imgLenaG,imgLenaR=cv2.split(imgLena)\n",
    "print(imgLenaR)"
   ]
  },
  {
   "cell_type": "code",
   "execution_count": 3,
   "metadata": {},
   "outputs": [],
   "source": [
    "while True:\n",
    "    # 顯示 B 維度\n",
    "    cv2.imshow('imgLenaB', imgLenaB)\n",
    "    # 顯示灰圖\n",
    "    cv2.imshow('imgLenaG', imgLenaG)\n",
    "    # 顯示灰圖\n",
    "    cv2.imshow('imgLenaR', imgLenaR)\n",
    "\n",
    "    # 直到按下 ESC 鍵才會自動關閉視窗結束程式\n",
    "    k = cv2.waitKey(0)\n",
    "    if k == 27:\n",
    "        cv2.destroyAllWindows()\n",
    "        break"
   ]
  },
  {
   "cell_type": "code",
   "execution_count": null,
   "metadata": {},
   "outputs": [],
   "source": []
  }
 ],
 "metadata": {
  "kernelspec": {
   "display_name": "tf2-gpu",
   "language": "python",
   "name": "tf2-gpu"
  },
  "language_info": {
   "codemirror_mode": {
    "name": "ipython",
    "version": 3
   },
   "file_extension": ".py",
   "mimetype": "text/x-python",
   "name": "python",
   "nbconvert_exporter": "python",
   "pygments_lexer": "ipython3",
   "version": "3.7.7"
  }
 },
 "nbformat": 4,
 "nbformat_minor": 2
}
